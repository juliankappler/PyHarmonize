{
 "cells": [
  {
   "cell_type": "code",
   "execution_count": null,
   "id": "e218bac8",
   "metadata": {
    "ExecuteTime": {
     "end_time": "2022-02-08T20:48:36.716592Z",
     "start_time": "2022-02-08T20:48:32.800845Z"
    }
   },
   "outputs": [],
   "source": [
    "import IPython.display as ipd\n",
    "import PyHarmonize\n",
    "\n",
    "def player(x, sampling_rate):\n",
    "    ipd.display(ipd.Audio(data=x, rate=sampling_rate))"
   ]
  },
  {
   "cell_type": "code",
   "execution_count": null,
   "id": "8806202e",
   "metadata": {
    "ExecuteTime": {
     "end_time": "2022-02-08T20:48:36.725297Z",
     "start_time": "2022-02-08T20:48:36.719031Z"
    }
   },
   "outputs": [],
   "source": [
    "parameters = {'input_filename':'./guitar_distorted_E_major_ex2.wav',\n",
    "              #'output_filename':'./guitar_distorted_E_major_ex2_with_harmony.wav',\n",
    "              'key':'E',\n",
    "              'mode':'major',\n",
    "               'verbose':True, # to return the notes of the provided scale\n",
    "             } \n",
    "\n",
    "# note that the parameter output_filename is optional. \n",
    "# If no output filename is provided, then the harmony line is still returned\n",
    "# and can be used within the jupyter notebook (see the examples below).\n",
    "\n",
    "# create instance of class\n",
    "harmony_generator = PyHarmonize.harmony_generator(parameters=parameters)"
   ]
  },
  {
   "cell_type": "markdown",
   "id": "03c02653",
   "metadata": {},
   "source": [
    "### One harmony line, a third up"
   ]
  },
  {
   "cell_type": "code",
   "execution_count": null,
   "id": "c7fbd522",
   "metadata": {
    "ExecuteTime": {
     "end_time": "2022-02-08T20:48:48.903946Z",
     "start_time": "2022-02-08T20:48:36.751863Z"
    }
   },
   "outputs": [],
   "source": [
    "# add harmony line three notes up in the E major scale\n",
    "scale_degrees = [3] # list of harmonies. Here only one element: 3 notes up in the scale\n",
    "output_dictionary = harmony_generator.add_harmonies(scale_degrees=scale_degrees)\n",
    "\n",
    "# the output_dictionary contains the input and output signals, \n",
    "# as well as the individual isolated harmony lines\n",
    "sampling_rate = output_dictionary['sampling_rate']\n",
    "input_signal = output_dictionary['x_in']\n",
    "output_signal = output_dictionary['x_out']\n",
    "harmony_lines = output_dictionary['scale_degrees_x'] # len(harmony_lines) = len(scale_degrees)\n",
    "\n",
    "print(\"input signal:\")\n",
    "player(x=input_signal, sampling_rate= sampling_rate)\n",
    "\n",
    "print(\"output signal:\")\n",
    "player(x=output_signal, sampling_rate= sampling_rate)\n",
    "\n",
    "print(\"isolated harmony lines:\")\n",
    "for i, (scale_degree,current_harmony_line) in enumerate(zip(scale_degrees,harmony_lines)):\n",
    "    print(\"\\tscale degree = {0}:\".format(scale_degree))\n",
    "    player(x=current_harmony_line, sampling_rate=sampling_rate)"
   ]
  },
  {
   "cell_type": "code",
   "execution_count": null,
   "id": "646aa3cc",
   "metadata": {
    "ExecuteTime": {
     "end_time": "2022-02-08T20:48:48.927550Z",
     "start_time": "2022-02-08T20:48:48.913264Z"
    }
   },
   "outputs": [],
   "source": [
    "# For the remainder of the notebook, we turn off that \n",
    "# the program  returns the scale every time we run it\n",
    "updated_parameters = {'verbose':False}\n",
    "harmony_generator.set_parameters(parameters = updated_parameters)"
   ]
  },
  {
   "cell_type": "markdown",
   "id": "e054a6b0",
   "metadata": {},
   "source": [
    "### Two added harmony lines: third and fifth up"
   ]
  },
  {
   "cell_type": "code",
   "execution_count": null,
   "id": "d35d701f",
   "metadata": {
    "ExecuteTime": {
     "end_time": "2022-02-08T19:40:54.527682Z",
     "start_time": "2022-02-08T19:40:09.438363Z"
    }
   },
   "outputs": [],
   "source": [
    "# add two harmony lines: a third up, and a fifth up\n",
    "scale_degrees = [3, \n",
    "                 5] \n",
    "output_dictionary = harmony_generator.add_harmonies(scale_degrees=scale_degrees)\n",
    "\n",
    "# the output_dictionary contains the input and output signals, \n",
    "# as well as the individual isolated harmony lines\n",
    "sampling_rate = output_dictionary['sampling_rate']\n",
    "input_signal = output_dictionary['x_in']\n",
    "output_signal = output_dictionary['x_out']\n",
    "harmony_lines = output_dictionary['scale_degrees_x'] # len(harmony_lines) = len(scale_degrees)\n",
    "\n",
    "print(\"input signal:\")\n",
    "player(x=input_signal, sampling_rate= sampling_rate)\n",
    "\n",
    "print(\"output signal:\")\n",
    "player(x=output_signal, sampling_rate= sampling_rate)\n",
    "\n",
    "print(\"isolated harmony lines:\")\n",
    "for i, (scale_degree,current_harmony_line) in enumerate(zip(scale_degrees,harmony_lines)):\n",
    "    print(\"\\tscale degree = {0}:\".format(scale_degree))\n",
    "    player(x=current_harmony_line, sampling_rate=sampling_rate)"
   ]
  },
  {
   "cell_type": "markdown",
   "id": "ea7d1474",
   "metadata": {},
   "source": [
    "### Four added harmony lines: octave down, third, fifth, and octave up"
   ]
  },
  {
   "cell_type": "code",
   "execution_count": null,
   "id": "87a0bca4",
   "metadata": {
    "ExecuteTime": {
     "end_time": "2022-02-08T19:41:47.461565Z",
     "start_time": "2022-02-08T19:40:54.531584Z"
    }
   },
   "outputs": [],
   "source": [
    "# add three harmony lines: a third up, a fifth up, and an octave up\n",
    "scale_degrees = [3, \n",
    "                 5,\n",
    "                8,\n",
    "                -8] \n",
    "output_dictionary = harmony_generator.add_harmonies(scale_degrees=scale_degrees)\n",
    "\n",
    "# the output_dictionary contains the input and output signals, \n",
    "# as well as the individual isolated harmony lines\n",
    "sampling_rate = output_dictionary['sampling_rate']\n",
    "input_signal = output_dictionary['x_in']\n",
    "output_signal = output_dictionary['x_out']\n",
    "harmony_lines = output_dictionary['scale_degrees_x'] # len(harmony_lines) = len(scale_degrees)\n",
    "\n",
    "print(\"input signal:\")\n",
    "player(x=input_signal, sampling_rate= sampling_rate)\n",
    "\n",
    "print(\"output signal:\")\n",
    "player(x=output_signal, sampling_rate= sampling_rate)\n",
    "\n",
    "print(\"isolated harmony lines:\")\n",
    "for i, (scale_degree,current_harmony_line) in enumerate(zip(scale_degrees,harmony_lines)):\n",
    "    print(\"\\tscale degree = {0}:\".format(scale_degree))\n",
    "    player(x=current_harmony_line, sampling_rate=sampling_rate)"
   ]
  },
  {
   "cell_type": "code",
   "execution_count": null,
   "id": "cbba8676",
   "metadata": {
    "ExecuteTime": {
     "end_time": "2022-02-08T19:43:01.221477Z",
     "start_time": "2022-02-08T19:41:47.470472Z"
    }
   },
   "outputs": [],
   "source": [
    "# Let's add some more lines:\n",
    "scale_degrees = [-8, # octave down\n",
    "                 8, # octave up\n",
    "                 -6, # third one octave lower\n",
    "                 3, # third up\n",
    "                 10, # third one octave higher\n",
    "                 5, # fifth\n",
    "                ] \n",
    "output_dictionary = harmony_generator.add_harmonies(scale_degrees=scale_degrees)\n",
    "\n",
    "# the output_dictionary contains the input and output signals, \n",
    "# as well as the individual isolated harmony lines\n",
    "sampling_rate = output_dictionary['sampling_rate']\n",
    "input_signal = output_dictionary['x_in']\n",
    "output_signal = output_dictionary['x_out']\n",
    "harmony_lines = output_dictionary['scale_degrees_x'] # len(harmony_lines) = len(scale_degrees)\n",
    "\n",
    "print(\"input signal:\")\n",
    "player(x=input_signal, sampling_rate= sampling_rate)\n",
    "\n",
    "print(\"output signal:\")\n",
    "player(x=output_signal, sampling_rate= sampling_rate)\n",
    "\n",
    "print(\"isolated harmony lines:\")\n",
    "for i, (scale_degree,current_harmony_line) in enumerate(zip(scale_degrees,harmony_lines)):\n",
    "    print(\"\\tscale degree = {0}:\".format(scale_degree))\n",
    "    player(x=current_harmony_line, sampling_rate=sampling_rate)"
   ]
  },
  {
   "cell_type": "code",
   "execution_count": null,
   "id": "ea697f13",
   "metadata": {},
   "outputs": [],
   "source": []
  }
 ],
 "metadata": {
  "kernelspec": {
   "display_name": "Python 3",
   "language": "python",
   "name": "python3"
  },
  "language_info": {
   "codemirror_mode": {
    "name": "ipython",
    "version": 3
   },
   "file_extension": ".py",
   "mimetype": "text/x-python",
   "name": "python",
   "nbconvert_exporter": "python",
   "pygments_lexer": "ipython3",
   "version": "3.7.10"
  }
 },
 "nbformat": 4,
 "nbformat_minor": 5
}
