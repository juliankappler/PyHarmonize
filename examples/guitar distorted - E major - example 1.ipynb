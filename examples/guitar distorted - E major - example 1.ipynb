{
 "cells": [
  {
   "cell_type": "code",
   "execution_count": null,
   "id": "e218bac8",
   "metadata": {
    "ExecuteTime": {
     "end_time": "2022-02-08T19:39:38.437931Z",
     "start_time": "2022-02-08T19:39:34.479459Z"
    }
   },
   "outputs": [],
   "source": [
    "import IPython.display as ipd\n",
    "import PyHarmonize\n",
    "\n",
    "def player(x, sampling_rate):\n",
    "    ipd.display(ipd.Audio(data=x, rate=sampling_rate))"
   ]
  },
  {
   "cell_type": "code",
   "execution_count": null,
   "id": "8806202e",
   "metadata": {
    "ExecuteTime": {
     "end_time": "2022-02-08T19:39:38.453991Z",
     "start_time": "2022-02-08T19:39:38.440298Z"
    }
   },
   "outputs": [],
   "source": [
    "parameters = {'input_filename':'./guitar_distorted_E_major_ex1.wav',\n",
    "              #'output_filename':'./guitar_distorted_E_major_ex1_with_harmony.wav',\n",
    "              'key':'E',\n",
    "              'mode':'major',\n",
    "               'verbose':True, # to return the notes of the provided scale\n",
    "             } \n",
    "\n",
    "# note that the parameter output_filename is optional. \n",
    "# If no output filename is provided, then the harmony line is still returned\n",
    "# and can be used within the jupyter notebook (see the examples below).\n",
    "\n",
    "# create instance of class\n",
    "harmony_generator = PyHarmonize.harmony_generator(parameters=parameters)"
   ]
  },
  {
   "cell_type": "markdown",
   "id": "b9885809",
   "metadata": {},
   "source": [
    "### One harmony line, a third up"
   ]
  },
  {
   "cell_type": "code",
   "execution_count": null,
   "id": "c7fbd522",
   "metadata": {
    "ExecuteTime": {
     "end_time": "2022-02-08T19:40:16.600159Z",
     "start_time": "2022-02-08T19:39:38.455964Z"
    }
   },
   "outputs": [],
   "source": [
    "# add harmony line three notes up in the E major scale\n",
    "scale_degrees = [3] # list of harmonies. Here only one element: 3 notes up in the scale\n",
    "output_dictionary = harmony_generator.add_harmonies(scale_degrees=scale_degrees)\n",
    "\n",
    "# the output_dictionary contains the input and output signals, \n",
    "# as well as the individual isolated harmony lines\n",
    "sampling_rate = output_dictionary['sampling_rate']\n",
    "input_signal = output_dictionary['x_in']\n",
    "output_signal = output_dictionary['x_out']\n",
    "harmony_lines = output_dictionary['scale_degrees_x'] # len(harmony_lines) = len(scale_degrees)\n",
    "\n",
    "print(\"input signal:\")\n",
    "player(x=input_signal, sampling_rate= sampling_rate)\n",
    "\n",
    "print(\"output signal:\")\n",
    "player(x=output_signal, sampling_rate= sampling_rate)\n",
    "\n",
    "print(\"isolated harmony lines:\")\n",
    "for i, (scale_degree,current_harmony_line) in enumerate(zip(scale_degrees,harmony_lines)):\n",
    "    print(\"\\tscale degree = {0}:\".format(scale_degree))\n",
    "    player(x=current_harmony_line, sampling_rate=sampling_rate)"
   ]
  },
  {
   "cell_type": "code",
   "execution_count": null,
   "id": "40b2adca",
   "metadata": {
    "ExecuteTime": {
     "end_time": "2022-02-08T19:40:16.615730Z",
     "start_time": "2022-02-08T19:40:16.604819Z"
    }
   },
   "outputs": [],
   "source": [
    "# For the remainder of the notebook, we turn off that \n",
    "# the program  returns the scale every time we run it\n",
    "updated_parameters = {'verbose':False}\n",
    "harmony_generator.set_parameters(parameters = updated_parameters)"
   ]
  },
  {
   "cell_type": "markdown",
   "id": "79cb5da1",
   "metadata": {},
   "source": [
    "### One harmony line, an octave up"
   ]
  },
  {
   "cell_type": "code",
   "execution_count": null,
   "id": "158a4bda",
   "metadata": {
    "ExecuteTime": {
     "end_time": "2022-02-08T19:40:58.823307Z",
     "start_time": "2022-02-08T19:40:16.622716Z"
    }
   },
   "outputs": [],
   "source": [
    "# We can also add a shifted signal with a fixed number of semitones. \n",
    "# This will in general sound strange, but for octaves it works:\n",
    "\n",
    "# the two following calls to \"add_harmonies\" produce the same output, as 8 notes up within\n",
    "# the scale is always 12 semitones, i.e. one octave higher:\n",
    "\n",
    "print(\"Eight notes up in the scale:\")\n",
    "output_dictionary = harmony_generator.add_harmonies(scale_degrees=[8])\n",
    "player(x=output_dictionary['x_out'], \n",
    "           sampling_rate=output_dictionary['sampling_rate'])\n",
    "\n",
    "print(\"Twelve semitones up:\")\n",
    "output_dictionary = harmony_generator.add_harmonies(semitones=[12])\n",
    "player(x=output_dictionary['x_out'], \n",
    "           sampling_rate=output_dictionary['sampling_rate'])"
   ]
  },
  {
   "cell_type": "code",
   "execution_count": null,
   "id": "87a0bca4",
   "metadata": {},
   "outputs": [],
   "source": []
  },
  {
   "cell_type": "code",
   "execution_count": null,
   "id": "8cf1502f",
   "metadata": {},
   "outputs": [],
   "source": []
  }
 ],
 "metadata": {
  "kernelspec": {
   "display_name": "Python 3",
   "language": "python",
   "name": "python3"
  },
  "language_info": {
   "codemirror_mode": {
    "name": "ipython",
    "version": 3
   },
   "file_extension": ".py",
   "mimetype": "text/x-python",
   "name": "python",
   "nbconvert_exporter": "python",
   "pygments_lexer": "ipython3",
   "version": "3.7.10"
  }
 },
 "nbformat": 4,
 "nbformat_minor": 5
}
